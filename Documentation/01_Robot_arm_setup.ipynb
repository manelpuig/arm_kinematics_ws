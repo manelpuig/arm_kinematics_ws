{
 "cells": [
  {
   "cell_type": "markdown",
   "metadata": {},
   "source": [
    "# Control a Robotic Arm with ROS\n",
    " If you wanted to develop a robot, you had to build a complete system: a physical device, of course, but also the control systems, interface, and inspection tools required to get the robot up and running as a test platform.\n",
    "\n",
    "We have to:\n",
    "- Create the Robot arm model\n",
    "- Import the Robot arm model in ROS\n",
    "- Control the kinematics "
   ]
  },
  {
   "cell_type": "markdown",
   "metadata": {},
   "source": [
    "### Install some packages\n",
    "\n",
    "First of all we need to install:\n",
    "- urdf tutorial package\n",
    "- the moveit package.\n",
    "\n",
    "The simplest way to install MoveIt is from pre-built binaries (Debian):"
   ]
  },
  {
   "cell_type": "code",
   "execution_count": null,
   "metadata": {},
   "outputs": [],
   "source": [
    "rosdep update\n",
    "sudo apt-get update\n",
    "sudo apt-get install python3\n",
    "sudo apt-get install ros-melodic-urdf-tutorial\n",
    "sudo apt install ros-melodic-moveit"
   ]
  },
  {
   "cell_type": "markdown",
   "metadata": {},
   "source": [
    "#### Documentation\n",
    "Interesting links are:\n",
    "- ROS Tutorial: Create an arm on a mobile robot using Moveit!: https://www.youtube.com/watch?v=l4dtSRvlAjg\n",
    "- Control any Robotic Arm with ROS: https://blog.usejournal.com/control-any-robotic-arm-with-ros-b10a3115306c\n",
    "- Udemy course: https://www.udemy.com/course/robotics-with-ros-build-robotic-arm-in-gazebo-and-moveit/\n",
    "- Udemy course repository: https://github.com/noshluk2/4_Robotic-Arm-Manupilation-using-Gazbo-and-Moveit\n",
    "- How to control a robot arm with the Arduino and ROS: https://maker.pro/arduino/tutorial/how-to-control-a-robot-arm-with-ros-and-arduino\n",
    "- Moveit tutorials: http://docs.ros.org/en/melodic/api/moveit_tutorials/html/index.html\n",
    "- Moveit Setup Assistant Tutorial: http://docs.ros.org/en/melodic/api/moveit_tutorials/html/doc/setup_assistant/setup_assistant_tutorial.html\n",
    "\n",
    "Public repositories in:\n",
    "- https://bitbucket.org/theconstructcore/\n",
    "- https://bitbucket.org/theconstructcore/my-robotic-manipulator/src/master/\n",
    "- https://bitbucket.org/theconstructcore/two-wheeled-robot-motion-planning/src/master/\n"
   ]
  },
  {
   "cell_type": "markdown",
   "metadata": {},
   "source": [
    "## 1. Create the Robot arm model\n",
    "\n",
    "First of all, we create a \"arm_kinematics_ws\" where we will install the packages:\n",
    "- custom_robotic_arm package: where the URDF model of robotic arm is located.\n",
    "- robot kinematics control packages: \n",
    "    - the custom_moveit package: generated authomatically with \"moveit setup assistant\"\n",
    "    - the custom_arm_control package: to perform a programmatically kinematics control \n",
    "\n",
    "Create a new repository \"arm_kinematics_ws\" in your github\n",
    "\n",
    "Syncronise the repository in your local computer\n",
    "\n",
    "Create the src folder and compile the workspace"
   ]
  },
  {
   "cell_type": "markdown",
   "metadata": {},
   "source": [
    "### 1.1. Create the URDF model of a robotic arm\n",
    "We can create an arm model in three different ways:\n",
    "\n",
    "- From scratch\n",
    "- From SolidWorks\n",
    "- From an existing package in ROS\n",
    "\n",
    "#### 1.1.1. Design a 3D robot arm model from scratch\n",
    "\n",
    "ROS and MoveIt require our robotic arm model files to be in URDF. The Unified Robotic Description Format (URDF) is an XML file format used in ROS to describe all elements of a robot. It lists all the kinematic properties of the links and joints in a chain from base to tip. ROS also accepts .xacro files which are very similar to urdf and are easier to write.\n",
    "\n",
    "We can make use of any robot arm design files available on the internet in CAD neutral format (such as STL). Alternatively, one can design it from scratch using any of the popular CAD software packages such as SolidWorks.\n",
    "\n",
    "First of all you need to create a new package for robot description"
   ]
  },
  {
   "cell_type": "code",
   "execution_count": null,
   "metadata": {},
   "outputs": [],
   "source": [
    "catkin_create_pkg custom_robotic_arm rospy std_msgs"
   ]
  },
  {
   "cell_type": "markdown",
   "metadata": {},
   "source": [
    "Create \"urdf\" and \"launch\" folders inside the new created package.\n",
    "\n",
    "In the \"urdf\" folder, we create a file named \"custom_arm.urdf\", where we are going to describe all the elements of the robot. \n",
    "\n",
    "Below, is the code describing one fixed link and its joint, and also another one with a continuous joint."
   ]
  },
  {
   "cell_type": "code",
   "execution_count": null,
   "metadata": {},
   "outputs": [],
   "source": [
    "<!-- Defining the version and the name of the robot -->\n",
    "<?xml version=\"1.0\"?>\n",
    "<robot name=\"custom_arm\">\n",
    "<!-- First connection to the base link-->\n",
    "  <link name=\"world\"/>\n",
    "    <link name=\"base_link\">\n",
    "        <visual>\n",
    "        <!-- Geometry and material of the baselink -->\n",
    "            <geometry>\n",
    "                <cylinder length=\"0.05\" radius=\"0.1\"/>\n",
    "            </geometry>\n",
    "            <material name=\"silver\">\n",
    "                <color rgba=\"0.75 0.75 0.75 1\"/>\n",
    "            </material>\n",
    "            <!-- Location of the base link -->\n",
    "            <origin rpy=\"0 0 0\" xyz=\"0 0 0.025\"/>\n",
    "        </visual>\n",
    "        <!-- Definition of the collision properties -->\n",
    "        <collision>\n",
    "            <geometry>\n",
    "                <cylinder length=\"0.05\" radius=\"0.1\"/>\n",
    "            </geometry>\n",
    "                <origin rpy=\"0 0 0\" xyz=\"0 0 0.025\"/>\n",
    "        </collision>\n",
    "        <!-- Definition of the intertial properties -->\n",
    "        <!-- It defines the properties that will act if there is a collision -->\n",
    "        <inertial>\n",
    "            <mass value=\"1.0\"/>\n",
    "            <origin rpy=\"0 0 0\" xyz=\"0 0 0.025\"/>\n",
    "            <inertia ixx=\"0.0027\" iyy=\"0.0027\" izz=\"0.005\" ixy=\"0\" ixz=\"0\" iyz=\"0\"/>\n",
    "        </inertial>\n",
    "        </link>\n",
    "<!-- Definition of the joint for the link created -->\n",
    "<!-- This is a fixed link, it is not going to move -->\n",
    "<!-- Defining the connection between the world and the base link, with a fixed joint -->\n",
    "  <joint name=\"fixed\" type=\"fixed\">\n",
    "    <parent link=\"world\"/>\n",
    "    <child link=\"base_link\"/>\n",
    "  </joint>\n",
    "\n",
    "<!-- New link connected to the base one, with a joing that will move -->\n",
    "<!-- Definition of the geometry and the mechanical properties -->\n",
    "  <link name=\"One\">\n",
    "    <visual>\n",
    "        <geometry>\n",
    "            <cylinder length=\"0.5\" radius=\"0.05\"/>\n",
    "        </geometry>\n",
    "        <material name=\"silver\">\n",
    "            <color rgba=\"0.75 0.75 0.75 1\"/>\n",
    "        </material>\n",
    "        <origin rpy=\"0 0 0\" xyz=\"0 0 0.25\"/>\n",
    "    </visual>\n",
    "    <collision>\n",
    "        <geometry>\n",
    "            <cylinder length=\"0.5\" radius=\"0.05\"/>\n",
    "        </geometry>\n",
    "        <origin rpy=\"0 0 0\" xyz=\"0 0 0.25\"/>\n",
    "    </collision>\n",
    "    <inertial>\n",
    "        <mass value=\"1.0\"/>\n",
    "        <origin rpy=\"0 0 0\" xyz=\"0 0 0.25\"/>\n",
    "        <inertia ixx=\"0.02146\" iyy=\"0.02146\" izz=\"0.00125\"\n",
    "        ixy=\"0\" ixz=\"0\" iyz=\"0\"/>\n",
    "    </inertial>\n",
    "  </link>\n",
    "  <!-- Defining a continuous joint, which can rotate  -->\n",
    "  <!-- In this case, we have to define the axis and origin -->\n",
    "  <joint name=\"One_joint\" type=\"continuous\">\n",
    "    <axis xyz=\"0 0 1\"/>\n",
    "    <parent link=\"base_link\"/>\n",
    "    <child link=\"One\"/>\n",
    "    <origin rpy=\"0 0 0\" xyz=\"0.0 0.0 0.05\"/>\n",
    "  </joint>"
   ]
  },
  {
   "cell_type": "markdown",
   "metadata": {},
   "source": [
    "We can repeat this step, as many times as links and joints we want our robot to have. In this case, as it is a simple arm, it is going to have four joints and links. To observe the evolution of the robot, we use RViz with the following command on the terminal."
   ]
  },
  {
   "cell_type": "markdown",
   "metadata": {},
   "source": [
    "Then you can see the robot arm using the custom file arm_rviz.launch"
   ]
  },
  {
   "cell_type": "code",
   "execution_count": null,
   "metadata": {},
   "outputs": [],
   "source": [
    "roslaunch custom_robotic_arm arm_rviz.launch"
   ]
  },
  {
   "cell_type": "markdown",
   "metadata": {},
   "source": [
    "The custom launch file for this purpose (arm_rviz.launch) is:"
   ]
  },
  {
   "cell_type": "code",
   "execution_count": null,
   "metadata": {},
   "outputs": [],
   "source": [
    "<launch>\n",
    "  <arg name=\"rvizconfig\" default=\"$(find custom_robotic_arm)/rviz/urdf.rviz\" />\n",
    "  <param name=\"robot_description\" textfile='$(find custom_robotic_arm)/urdf/custom_arm.urdf'/>\n",
    "  <node name=\"robot_state_publisher\" pkg=\"robot_state_publisher\" type=\"robot_state_publisher\" />\n",
    "  <node name=\"jsp_gui\" pkg=\"joint_state_publisher_gui\" type=\"joint_state_publisher_gui\" />\n",
    "  <node name=\"rviz\" pkg=\"rviz\" type=\"rviz\" args=\"-d $(arg rvizconfig)\" required=\"true\" />\n",
    "</launch>"
   ]
  },
  {
   "cell_type": "markdown",
   "metadata": {},
   "source": [
    "![Getting Started](./Images/1_arm_rviz2.png)"
   ]
  },
  {
   "cell_type": "markdown",
   "metadata": {},
   "source": [
    "#### 1.1.2. Generate URDF model file from SolidWorks\n",
    "Fortunately, due to a few talented ROS developers, there exists a convenient plugin in Solidworks to export our assembly in URDF format.\n",
    "\n",
    "Assuming you have your model completely set up as a SolidWorks assembly, we now use the SolidWorks to URDF Exporter: http://wiki.ros.org/sw_urdf_exporter\n",
    "\n",
    "Follow the tutorial to obtain the URDF file: https://blog.usejournal.com/control-any-robotic-arm-with-ros-b10a3115306c\n",
    "\n",
    "The built package will contain directories for meshes, textures and robots. It will also contain a ROS package.xml (manifest) file so you can use this as a ROS package by just copying it to your ROS system. The path locations in the URDF are relative to the package itself. Use proper ROS package names to avoid errors.\n",
    "\n",
    "Once created the URDF file, we can generate the corresponding package in src folder"
   ]
  },
  {
   "cell_type": "code",
   "execution_count": null,
   "metadata": {},
   "outputs": [],
   "source": [
    "catkin_create_pkg dexarm rospy std_msgs"
   ]
  },
  {
   "cell_type": "markdown",
   "metadata": {},
   "source": [
    "#### 1.1.3. Import the Robot arm model in ROS\n",
    "\n",
    "Install the robot_description package of \"panda robot arm\" already available in ROS Melodic using this command:"
   ]
  },
  {
   "cell_type": "code",
   "execution_count": null,
   "metadata": {},
   "outputs": [],
   "source": [
    "sudo apt-get install ros-melodic-franka-description"
   ]
  },
  {
   "cell_type": "markdown",
   "metadata": {},
   "source": [
    "Copy the folder \"franka_description\" located in \"/opt/ros/melodic/share/\" to our src folder\n",
    "\n",
    "Compile again the workspace\n",
    "\n",
    "Verify the lasts lines in .bashrc file (change to your repository path)"
   ]
  },
  {
   "cell_type": "code",
   "execution_count": null,
   "metadata": {},
   "outputs": [],
   "source": [
    "source /opt/ros/melodic/setup.bash\n",
    "source /media/sf_github_manelpuig/arm_kinematics_ws/devel/setup.bash"
   ]
  },
  {
   "cell_type": "markdown",
   "metadata": {},
   "source": [
    "## 1.2. Spawn robot model in Gazebo\n",
    "\n",
    "A robot in Gazebo needs a proper control transmission. So, we need to create transmissions and actuators in the joints of the robot.\n",
    "\n",
    "First we have to define the transmissions and controllers to the URDF model. The syntax for 1 transmission is:"
   ]
  },
  {
   "cell_type": "code",
   "execution_count": null,
   "metadata": {},
   "outputs": [],
   "source": [
    "                    <!--TRANSMISSION-->\n",
    "<!--ONE-->\n",
    "<transmission name =\"Trans_1\">\n",
    "    <type>transmission_interface/SimpleTransmission</type>\n",
    "    <joint name=\"One_joint\">\n",
    "        <hardwareInterface>hardware_interface/PositionJointInterface</hardwareInterface>\n",
    "    </joint>\n",
    "    <actuator name=\"Motor1\">\n",
    "        <hardwareInterface>hardware_interface/PositionJointInterface</hardwareInterface>\n",
    "        <mechanicalReduction>1</mechanicalReduction>\n",
    "    </actuator>\n",
    "</transmission>"
   ]
  },
  {
   "cell_type": "markdown",
   "metadata": {},
   "source": [
    "A robot need also a controller, so we need a Gazebo plugin that controls the transmission and actuations. We come back to \"custom_arm.urdf\", and we write the following:"
   ]
  },
  {
   "cell_type": "code",
   "execution_count": null,
   "metadata": {},
   "outputs": [],
   "source": [
    "<gazebo>\n",
    "    <plugin name=\"control\" filename=\"libgazebo_ros_control.so\"/>\n",
    "</gazebo>"
   ]
  },
  {
   "cell_type": "markdown",
   "metadata": {},
   "source": [
    "Now you need to define the controller parameters file (controller.yaml) in a config folder as follows:"
   ]
  },
  {
   "cell_type": "code",
   "execution_count": null,
   "metadata": {},
   "outputs": [],
   "source": [
    "arm_controller:\n",
    "  type: position_controllers/JointTrajectoryController\n",
    "  joints:\n",
    "    - One_joint\n",
    "    - Two_joint\n",
    "    - Three_joint\n",
    "    - Four_joint"
   ]
  },
  {
   "cell_type": "markdown",
   "metadata": {},
   "source": [
    "If you want to specify the PID motor control parameters you need to create a gazebo_ros_control_params.yaml with the PID values. Test proper values for each robot arm and joint. There is a set of proper values for our custom robot arm in the yaml created file."
   ]
  },
  {
   "cell_type": "markdown",
   "metadata": {},
   "source": [
    "Now we can create a \"arm_gazebo.launch\" file to spawn the robot arm and control the joint angles:"
   ]
  },
  {
   "cell_type": "code",
   "execution_count": null,
   "metadata": {},
   "outputs": [],
   "source": [
    "<launch>\n",
    "    <param name=\"robot_description\" textfile=\"$(find custom_robotic_arm)/urdf/custom_arm.urdf\"/>\n",
    "    <!-- To specify the PID motor parameters /-->\n",
    "    <!--rosparam file=\"$(find custom_robotic_arm)/config/gazebo_ros_control_params.yaml\" command=\"load\"/-->\n",
    "    <include file=\"$(find gazebo_ros)/launch/empty_world.launch\" />\n",
    "    <node name=\"spawn_urdf\" pkg=\"gazebo_ros\" type=\"spawn_model\" args=\"-param robot_description -urdf -model custom_arm\"    />\n",
    "    <rosparam file =\"$(find custom_robotic_arm)/config/controller.yaml\"/>\n",
    "    <node name= \"controller_spawner\" pkg= \"controller_manager\" type=\"spawner\" args=\"arm_controller\"/>\n",
    "    <node name=\"robot_state_publisher\" pkg=\"robot_state_publisher\" type=\"robot_state_publisher\"/>\n",
    "    <node name=\"joint_state_publisher\" pkg=\"joint_state_publisher\" type=\"joint_state_publisher\"/>\n",
    "</launch>"
   ]
  },
  {
   "cell_type": "code",
   "execution_count": null,
   "metadata": {},
   "outputs": [],
   "source": [
    "roslaunch custom_robotic_arm arm_gazebo.launch "
   ]
  },
  {
   "cell_type": "markdown",
   "metadata": {},
   "source": [
    "We can specify the joint angles to speciffic values publishing to the topic /arm_controller/command trajectory_msgs/JointTrajectory"
   ]
  },
  {
   "cell_type": "code",
   "execution_count": null,
   "metadata": {},
   "outputs": [],
   "source": [
    "rostopic pub /arm_controller/command trajectory_msgs/JointTrajectory '{joint_names:[\"One_joint\",\"Two_joint\",\"Three_joint\",\"Four_joint\"],points:[{positions:[0.1,-0.5,0.5,0.75],time_from_start:[1,0] }]}'"
   ]
  },
  {
   "cell_type": "markdown",
   "metadata": {},
   "source": [
    "![Getting Started](./Images/1_arm_gazebo1.png)"
   ]
  },
  {
   "cell_type": "markdown",
   "metadata": {},
   "source": [
    "Remember the instruction to properly close the gazebo:\n",
    "\n",
    "killall gzserver && killall gzclient"
   ]
  },
  {
   "cell_type": "markdown",
   "metadata": {},
   "source": [
    "## 1.3. Create a moveit_config package\n",
    "\n",
    "The quickest way to get started using MoveIt is through its RViz plugin. Rviz is the primary visualizer in ROS and an incredibly useful tool for debugging robotics.\n",
    "\n",
    "http://docs.ros.org/en/melodic/api/moveit_tutorials/html/doc/quickstart_in_rviz/quickstart_in_rviz_tutorial.html\n",
    "http://docs.ros.org/en/melodic/api/moveit_tutorials/html/doc/setup_assistant/setup_assistant_tutorial.html\n",
    "\n",
    "To start the MoveIt Setup Assistant:"
   ]
  },
  {
   "cell_type": "code",
   "execution_count": null,
   "metadata": {},
   "outputs": [],
   "source": [
    "roslaunch moveit_setup_assistant setup_assistant.launch"
   ]
  },
  {
   "cell_type": "markdown",
   "metadata": {},
   "source": [
    "Follow the \"Moveit Setup Assistant\" Tutorial to create the moveit_config package for the panda robot arm\n",
    "\n",
    "http://docs.ros.org/en/melodic/api/moveit_tutorials/html/doc/setup_assistant/setup_assistant_tutorial.html\n",
    "\n",
    "You have now the panda_moveit_config package properly installed\n",
    "\n",
    "Carefully:\n",
    "- Choose the robot model created on the previous sections, \"custom_arm.urdf\".\n",
    "- Generate Collision Matrix\n",
    "- no virtual joints\n",
    "- add the joints to \"Planning groups\": arm (all joints) and hand (last Four-joint)). Select RRT Planner\n",
    "- add a tool with end effector group \"hand\" and parent link Four\n",
    "- no passive joints\n",
    "- no ROS control\n",
    "- 3D perception to point cloud\n",
    "- You can obtain the urdf file generated automatically\n",
    "- save to custom_moveit package name"
   ]
  },
  {
   "cell_type": "code",
   "execution_count": null,
   "metadata": {},
   "outputs": [],
   "source": [
    "roslaunch moveit_arm demo.launch"
   ]
  },
  {
   "cell_type": "markdown",
   "metadata": {},
   "source": [
    "You can make the robot do some random movements. On the section 'MotionPlanning', in the tab 'Planning', you can select a random goal state. You 'Plan' the movement, and then 'Execute'. Then, you see the robot start to move."
   ]
  },
  {
   "cell_type": "markdown",
   "metadata": {},
   "source": [
    "![Getting Started](./Images/1_arm_moveit1.png)"
   ]
  },
  {
   "cell_type": "markdown",
   "metadata": {},
   "source": [
    "## 1.4. Building Robot Arm Controller\n",
    "Now we are going to make a synchronization between Moveit and Gazebo. When we plan a robot movement in rviz, we want to obtain the same movement in the real world (gazebo in our case).\n",
    "\n",
    "We create a file \"controller.yaml\" on the 'config' folder of moveit package. With this file we will enable moveIt to use the controller defined previously to work with gazebo."
   ]
  },
  {
   "cell_type": "code",
   "execution_count": null,
   "metadata": {},
   "outputs": [],
   "source": [
    "controller_manager_ns: /\n",
    "controller_list:\n",
    "  - name: arm_controller\n",
    "    action_ns: follow_joint_trajectory\n",
    "    type: FollowJointTrajectory\n",
    "    joints:\n",
    "      - One_joint\n",
    "      - Two_joint\n",
    "      - Three_joint\n",
    "      - Four_joint"
   ]
  },
  {
   "cell_type": "markdown",
   "metadata": {},
   "source": [
    "Now, we need to change the file \"custom_arm_moveit_controller_manager.launch.xml\". It is going to use the controller previously defined for Gazebo and link it with Moveit . When we move the robot in Moveit, it will move in Gazebo also.\n",
    "\n",
    "Note that we have to add:\n",
    "- param name=\"controller_manager_name\" value=\"/\"\n",
    "- param name=\"use_controller_manager\" value=\"true\"\n",
    "\n",
    "and address to the controller.yaml created before\n",
    "- rosparam file=\"$(find custom_moveit)/config/controller.yaml\""
   ]
  },
  {
   "cell_type": "code",
   "execution_count": null,
   "metadata": {},
   "outputs": [],
   "source": [
    "<launch>\n",
    "  <!-- loads moveit_controller_manager on the parameter server which is taken as argument \n",
    "    if no argument is passed, moveit_simple_controller_manager will be set -->\n",
    "  <arg name=\"moveit_controller_manager\" default=\"moveit_simple_controller_manager/MoveItSimpleControllerManager\" />\n",
    "  <param name=\"moveit_controller_manager\" value=\"$(arg moveit_controller_manager)\"/>\n",
    "  <param name=\"controller_manager_name\" value=\"/\" />\n",
    "  <param name=\"use_controller_manager\" value=\"true\" />\n",
    "  <!-- loads ros_controllers to the param server -->\n",
    "  <rosparam file=\"$(find custom_moveit)/config/controller.yaml\"/>\n",
    "</launch>"
   ]
  },
  {
   "cell_type": "markdown",
   "metadata": {},
   "source": [
    "The moveit_rviz.launch has to be modified according to:"
   ]
  },
  {
   "cell_type": "code",
   "execution_count": null,
   "metadata": {},
   "outputs": [],
   "source": [
    "<launch>\n",
    "  <arg name=\"debug\" default=\"false\" />\n",
    "  <arg unless=\"$(arg debug)\" name=\"launch_prefix\" value=\"\" />\n",
    "  <arg     if=\"$(arg debug)\" name=\"launch_prefix\" value=\"gdb --ex run --args\" />\n",
    "  <arg name=\"rviz_config\" default=\"$(find custom_moveit)/launch/moveit.rviz\" />\n",
    "  <arg     if=\"$(eval rviz_config=='')\" name=\"command_args\" value=\"\" />\n",
    "  <arg unless=\"$(eval rviz_config=='')\" name=\"command_args\" value=\"-d $(arg rviz_config)\" />\n",
    "  <node name=\"$(anon rviz)\" launch-prefix=\"$(arg launch_prefix)\" pkg=\"rviz\" type=\"rviz\" respawn=\"false\"\n",
    "        args=\"$(arg command_args)\" output=\"screen\">\n",
    "        <rosparam command=\"load\" file=\"$(find custom_moveit)/config/kinematics.yaml\"/>\n",
    "  </node>\n",
    "</launch>"
   ]
  },
  {
   "cell_type": "markdown",
   "metadata": {},
   "source": [
    "Finally, we create a new file named \"final.launch\". That control the robot on both simulations programs."
   ]
  },
  {
   "cell_type": "code",
   "execution_count": null,
   "metadata": {},
   "outputs": [],
   "source": [
    "<launch>\n",
    "    <include file=\"$(find custom_robotic_arm)/launch/arm_gazebo.launch\" />\n",
    "    <include file=\"$(find custom_moveit)/launch/move_group.launch\" />\n",
    "    <include file=\"$(find custom_moveit)/launch/moveit_rviz.launch\">\n",
    "        <arg name=\"config\" value=\"true\"/>\n",
    "    </include>\n",
    "</launch>"
   ]
  },
  {
   "cell_type": "code",
   "execution_count": null,
   "metadata": {},
   "outputs": [],
   "source": [
    "roslaunch custom_moveit final.launch"
   ]
  },
  {
   "cell_type": "markdown",
   "metadata": {},
   "source": [
    "![Getting Started](./Images/1_arm_moveit_gazebo.png)"
   ]
  },
  {
   "cell_type": "markdown",
   "metadata": {},
   "source": [
    "Great! congratulations!"
   ]
  },
  {
   "cell_type": "markdown",
   "metadata": {},
   "source": [
    "## 1.4. Robot arm control\n",
    "We create a control Package:"
   ]
  },
  {
   "cell_type": "code",
   "execution_count": null,
   "metadata": {},
   "outputs": [],
   "source": [
    "catkin_create_pkg custom_arm_control rospy std_msgs moveit_core moveit_visual_tools moveit_ros_planning_interface tf2_geometry_msgs"
   ]
  }
 ],
 "metadata": {
  "kernelspec": {
   "display_name": "Python 3.6.9 64-bit",
   "name": "python369jvsc74a57bd031f2aee4e71d21fbe5cf8b01ff0e069b9275f58929596ceb00d14d90e3e16cd6"
  },
  "language_info": {
   "name": "python",
   "version": ""
  },
  "metadata": {
   "interpreter": {
    "hash": "31f2aee4e71d21fbe5cf8b01ff0e069b9275f58929596ceb00d14d90e3e16cd6"
   }
  },
  "orig_nbformat": 2
 },
 "nbformat": 4,
 "nbformat_minor": 2
}