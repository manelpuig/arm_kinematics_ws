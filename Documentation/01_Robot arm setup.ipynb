{
 "metadata": {
  "language_info": {
   "codemirror_mode": {
    "name": "ipython",
    "version": 3
   },
   "file_extension": ".py",
   "mimetype": "text/x-python",
   "name": "python",
   "nbconvert_exporter": "python",
   "pygments_lexer": "ipython3",
   "version": 3
  },
  "orig_nbformat": 2
 },
 "nbformat": 4,
 "nbformat_minor": 2,
 "cells": [
  {
   "source": [
    "# Setup Robot arm kinematics workspace\n",
    "\n",
    "We have to:\n",
    "- create the arm_kinematic_ws\n",
    "- install the package \"franka_description\"\n",
    "- create a moveit_config package for panda robot arm"
   ],
   "cell_type": "markdown",
   "metadata": {}
  },
  {
   "source": [
    "First of all we need to install the moveit package.\n",
    "\n",
    "The simplest way to install MoveIt is from pre-built binaries (Debian):"
   ],
   "cell_type": "markdown",
   "metadata": {}
  },
  {
   "cell_type": "code",
   "execution_count": null,
   "metadata": {},
   "outputs": [],
   "source": [
    "rosdep update\n",
    "sudo apt-get update\n",
    "sudo apt install ros-melodic-moveit"
   ]
  },
  {
   "source": [
    "## Create the arm_kinematic_ws\n",
    "\n",
    "Create a \"arm_kinematics_ws\" where we will install the packages:\n",
    "- robot_description: here Franka panda robot arm for this tutorial\n",
    "- moveit_config: linked to the robot arm model for kinematics programming\n",
    "\n",
    "Create a new repository \"arm_kinematics_ws\" in your github\n",
    "\n",
    "Syncronise the repository in your local computer\n",
    "\n",
    "create the src folder and compile the workspace"
   ],
   "cell_type": "markdown",
   "metadata": {}
  },
  {
   "source": [
    "## Install robot_description package\n",
    "\n",
    "For this tutorial, make sure you have the Franka description package for Melodic:"
   ],
   "cell_type": "markdown",
   "metadata": {}
  },
  {
   "cell_type": "code",
   "execution_count": null,
   "metadata": {},
   "outputs": [],
   "source": [
    "sudo apt-get install ros-melodic-franka-description"
   ]
  },
  {
   "source": [
    "Copy the folder \"franka_description\" to src folder\n",
    "\n",
    "Compile again the workspace\n",
    "\n",
    "Verify the lasts lines in .bashrc file"
   ],
   "cell_type": "markdown",
   "metadata": {}
  },
  {
   "cell_type": "code",
   "execution_count": null,
   "metadata": {},
   "outputs": [],
   "source": [
    "source /opt/ros/melodic/setup.bash\n",
    "source /media/sf_github_manelpuig/arm_kinematics_ws/devel/setup.bash"
   ]
  },
  {
   "source": [
    "## Create a moveit_config package\n",
    "\n",
    "To start the MoveIt Setup Assistant:"
   ],
   "cell_type": "markdown",
   "metadata": {}
  },
  {
   "cell_type": "code",
   "execution_count": null,
   "metadata": {},
   "outputs": [],
   "source": [
    "roslaunch moveit_setup_assistant setup_assistant.launch"
   ]
  },
  {
   "source": [
    "Follow the \"Moveit Setup Assistant\" Tutorial to create the moveit_config package for the panda robot arm\n",
    "\n",
    "http://docs.ros.org/en/melodic/api/moveit_tutorials/html/doc/setup_assistant/setup_assistant_tutorial.html\n",
    "\n",
    "You have now the panda_moveit_config package properly installed"
   ],
   "cell_type": "markdown",
   "metadata": {}
  },
  {
   "source": [
    "## Robot arm Kinematics control \n",
    "The quickest way to get started using MoveIt is through its RViz plugin. Rviz is the primary visualizer in ROS and an incredibly useful tool for debugging robotics.\n",
    "\n",
    "http://docs.ros.org/en/melodic/api/moveit_tutorials/html/doc/quickstart_in_rviz/quickstart_in_rviz_tutorial.html"
   ],
   "cell_type": "markdown",
   "metadata": {}
  },
  {
   "cell_type": "code",
   "execution_count": null,
   "metadata": {},
   "outputs": [],
   "source": [
    "roslaunch panda_moveit_config demo.launch rviz_tutorial:=true"
   ]
  }
 ]
}