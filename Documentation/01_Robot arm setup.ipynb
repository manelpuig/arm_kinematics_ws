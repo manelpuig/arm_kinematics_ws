{
 "metadata": {
  "language_info": {
   "codemirror_mode": {
    "name": "ipython",
    "version": 3
   },
   "file_extension": ".py",
   "mimetype": "text/x-python",
   "name": "python",
   "nbconvert_exporter": "python",
   "pygments_lexer": "ipython3",
   "version": 3
  },
  "orig_nbformat": 2
 },
 "nbformat": 4,
 "nbformat_minor": 2,
 "cells": [
  {
   "source": [
    "# Setup Robot arm kinematics workspace\n",
    "\n",
    "We have to:\n",
    "- create the arm_kinematic_ws\n",
    "- install the package for robot_arm_description\n",
    "- create the corresponding moveit_config package"
   ],
   "cell_type": "markdown",
   "metadata": {}
  },
  {
   "source": [
    "First of all we need to install the moveit package.\n",
    "\n",
    "The simplest way to install MoveIt is from pre-built binaries (Debian):"
   ],
   "cell_type": "markdown",
   "metadata": {}
  },
  {
   "cell_type": "code",
   "execution_count": null,
   "metadata": {},
   "outputs": [],
   "source": [
    "rosdep update\n",
    "sudo apt-get update\n",
    "sudo apt install ros-melodic-moveit"
   ]
  },
  {
   "source": [
    "#### Documentation\n",
    "Interesting links are:\n",
    "- ROS Tutorial: Create an arm on a mobile robot using Moveit!: https://www.youtube.com/watch?v=l4dtSRvlAjg\n",
    "- Control any Robotic Arm with ROS: https://blog.usejournal.com/control-any-robotic-arm-with-ros-b10a3115306c\n",
    "- Udemy course: https://www.udemy.com/course/robotics-with-ros-build-robotic-arm-in-gazebo-and-moveit/\n",
    "- How to control a robot arm with the Arduino and ROS: https://maker.pro/arduino/tutorial/how-to-control-a-robot-arm-with-ros-and-arduino\n",
    "- Moveit tutorials: http://docs.ros.org/en/melodic/api/moveit_tutorials/html/index.html\n",
    "- Moveit Setup Assistant Tutorial: http://docs.ros.org/en/melodic/api/moveit_tutorials/html/doc/setup_assistant/setup_assistant_tutorial.html"
   ],
   "cell_type": "markdown",
   "metadata": {}
  },
  {
   "source": [
    "## Create the arm_kinematic_ws\n",
    "\n",
    "Create a \"arm_kinematics_ws\" where we will install the packages:\n",
    "- robot_description: here Franka panda robot arm for this tutorial\n",
    "- moveit_config: linked to the robot arm model for kinematics programming\n",
    "\n",
    "Create a new repository \"arm_kinematics_ws\" in your github\n",
    "\n",
    "Syncronise the repository in your local computer\n",
    "\n",
    "create the src folder and compile the workspace"
   ],
   "cell_type": "markdown",
   "metadata": {}
  },
  {
   "source": [
    "## Install robot_description package\n",
    "\n",
    "For this tutorial, make sure you have the Franka description package for Melodic:"
   ],
   "cell_type": "markdown",
   "metadata": {}
  },
  {
   "cell_type": "code",
   "execution_count": null,
   "metadata": {},
   "outputs": [],
   "source": [
    "sudo apt-get install ros-melodic-franka-description"
   ]
  },
  {
   "source": [
    "Copy the folder \"franka_description\" to src folder\n",
    "\n",
    "Compile again the workspace\n",
    "\n",
    "Verify the lasts lines in .bashrc file"
   ],
   "cell_type": "markdown",
   "metadata": {}
  },
  {
   "cell_type": "code",
   "execution_count": null,
   "metadata": {},
   "outputs": [],
   "source": [
    "source /opt/ros/melodic/setup.bash\n",
    "source /media/sf_github_manelpuig/arm_kinematics_ws/devel/setup.bash"
   ]
  },
  {
   "source": [
    "## Create a moveit_config package\n",
    "\n",
    "To start the MoveIt Setup Assistant:"
   ],
   "cell_type": "markdown",
   "metadata": {}
  },
  {
   "cell_type": "code",
   "execution_count": null,
   "metadata": {},
   "outputs": [],
   "source": [
    "roslaunch moveit_setup_assistant setup_assistant.launch"
   ]
  },
  {
   "source": [
    "Follow the \"Moveit Setup Assistant\" Tutorial to create the moveit_config package for the panda robot arm\n",
    "\n",
    "http://docs.ros.org/en/melodic/api/moveit_tutorials/html/doc/setup_assistant/setup_assistant_tutorial.html\n",
    "\n",
    "You have now the panda_moveit_config package properly installed\n",
    "\n",
    "Carefully:\n",
    "- add the links and joints \"Planning groups\"\n",
    "- add the urdf file generated in the robots folder\n",
    "You need some modifications to this package:\n",
    "- add the created urdf file in robots folder\n",
    "- change the gazebo.launch file"
   ],
   "cell_type": "markdown",
   "metadata": {}
  },
  {
   "source": [
    "## Robot arm Kinematics control \n",
    "The quickest way to get started using MoveIt is through its RViz plugin. Rviz is the primary visualizer in ROS and an incredibly useful tool for debugging robotics.\n",
    "\n",
    "http://docs.ros.org/en/melodic/api/moveit_tutorials/html/doc/quickstart_in_rviz/quickstart_in_rviz_tutorial.html"
   ],
   "cell_type": "markdown",
   "metadata": {}
  },
  {
   "cell_type": "code",
   "execution_count": null,
   "metadata": {},
   "outputs": [],
   "source": [
    "roslaunch panda_moveit_config demo.launch rviz_tutorial:=true"
   ]
  },
  {
   "source": [
    "Some important configuration parameters:\n",
    "- In Context Motion Planning Menu: Planning Library OMPL select RTTConnect\n",
    "- In Planning Request: Interactive marker size to 0,3\n",
    "- Select \"Allow External Communication to use a joystick"
   ],
   "cell_type": "markdown",
   "metadata": {}
  },
  {
   "source": [
    "<img src=\"./Images/1_panda_kine_rviz1.png\">"
   ],
   "cell_type": "markdown",
   "metadata": {}
  },
  {
   "cell_type": "code",
   "execution_count": null,
   "metadata": {},
   "outputs": [],
   "source": [
    "roslaunch gazebo_ros empty_world.launch paused:=true use_sim_time:=false gui:=true throttled:=false recording:=false debug:=true"
   ]
  },
  {
   "cell_type": "code",
   "execution_count": null,
   "metadata": {},
   "outputs": [],
   "source": [
    "rosrun gazebo_ros spawn_model -file /media/sf_github_manelpuig/arm_kinematics_ws/src/franka_description/robots/panda_arm.urdf -urdf -x 0 -y 0 -z 0 -model panda"
   ]
  },
  {
   "source": [
    "Change the gazebo.launch file considering:\n",
    "- urdf path to the urdf file and not the xacro file\n",
    "- the model has to be changed to panda (not robot as defauld)"
   ],
   "cell_type": "markdown",
   "metadata": {}
  }
 ]
}